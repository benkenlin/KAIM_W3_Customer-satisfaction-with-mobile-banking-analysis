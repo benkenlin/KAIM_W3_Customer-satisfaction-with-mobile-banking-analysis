{
 "cells": [
  {
   "cell_type": "markdown",
   "id": "8d91406a",
   "metadata": {},
   "source": [
    "# Setup and Imports"
   ]
  },
  {
   "cell_type": "code",
   "execution_count": 1,
   "id": "e6d77bf9",
   "metadata": {},
   "outputs": [
    {
     "name": "stderr",
     "output_type": "stream",
     "text": [
      "2025-06-07 17:02:27,202 - INFO - Jupyter Notebook setup complete.\n"
     ]
    }
   ],
   "source": [
    "# Cell 1: Install necessary libraries (run only once if not installed)\n",
    "# !pip install google-play-scraper pandas scikit-learn transformers torch spacy matplotlib seaborn sqlalchemy cx_Oracle psycopg2-binary ipywidgets widgetsnbextension\n",
    "# !python -m spacy download en_core_web_sm\n",
    "# !jupyter nbextension enable --py widgetsnbextension # For interactive elements if you use them\n",
    "\n",
    "import pandas as pd\n",
    "import os\n",
    "import logging\n",
    "from datetime import datetime\n",
    "\n",
    "# Configure logging for the notebook\n",
    "# This ensures logs go to a file and to the console output in Jupyter\n",
    "log_file_path = 'pipeline_jupyter.log'\n",
    "if os.path.exists(log_file_path):\n",
    "    os.remove(log_file_path) # Clear previous log for a fresh run\n",
    "\n",
    "logging.basicConfig(level=logging.INFO, format='%(asctime)s - %(levelname)s - %(message)s',\n",
    "                    handlers=[logging.FileHandler(log_file_path), logging.StreamHandler()])\n",
    "\n",
    "logging.info(\"Jupyter Notebook setup complete.\")\n"
   ]
  },
  {
   "cell_type": "code",
   "execution_count": 2,
   "id": "c025849f",
   "metadata": {},
   "outputs": [
    {
     "name": "stderr",
     "output_type": "stream",
     "text": [
      "2025-06-07 17:02:56,581 - ERROR - Error loading SpaCy model in preprocessing: [E050] Can't find model 'en_core_web_sm'. It doesn't seem to be a Python package or a valid path to a data directory.. Please run 'python -m spacy download en_core_web_sm'\n",
      "The cache for model files in Transformers v4.22.0 has been updated. Migrating your old cache. This is a one-time only operation. You can interrupt this and resume the migration later on by calling `transformers.utils.move_cache()`.\n"
     ]
    },
    {
     "data": {
      "application/vnd.jupyter.widget-view+json": {
       "model_id": "30e76932ac8c4ef880e81cff77ef427a",
       "version_major": 2,
       "version_minor": 0
      },
      "text/plain": [
       "0it [00:00, ?it/s]"
      ]
     },
     "metadata": {},
     "output_type": "display_data"
    },
    {
     "name": "stderr",
     "output_type": "stream",
     "text": [
      "2025-06-07 17:04:30,027 - ERROR - Error loading sentiment analysis model: No module named 'torch'\n",
      "2025-06-07 17:04:30,027 - WARNING - Sentiment analysis will use a placeholder if model failed to load.\n",
      "2025-06-07 17:04:30,410 - ERROR - Error loading SpaCy model in thematic analysis: [E050] Can't find model 'en_core_web_sm'. It doesn't seem to be a Python package or a valid path to a data directory.. Please ensure 'python -m spacy download en_core_web_sm' has been run.\n",
      "2025-06-07 17:04:39,255 - INFO - All custom modules and configurations imported.\n"
     ]
    }
   ],
   "source": [
    "# Import modules from your 'src' and 'config' directories\n",
    "# Add your project's root directory to the Python path\n",
    "# This allows importing modules from 'src' and 'config'\n",
    "import sys\n",
    "project_root = os.path.abspath(os.path.join(os.getcwd(), os.pardir))\n",
    "if project_root not in sys.path:\n",
    "    sys.path.insert(0, project_root)\n",
    "\n",
    "from src.data_collection import collect_all_bank_reviews\n",
    "from src.preprocessing import preprocess_reviews, tokenize_and_lemmatize # Added tokenize_and_lemmatize here for consistency\n",
    "from src.sentiment_analysis import add_sentiment_scores\n",
    "from src.thematic_analysis import extract_keywords_tfidf, assign_themes\n",
    "from src.database_manager import DatabaseManager\n",
    "from src.insights_generator import (\n",
    "    generate_sentiment_summary,\n",
    "    plot_sentiment_distribution,\n",
    "    plot_sentiment_by_bank,\n",
    "    plot_themes_by_bank,\n",
    "    generate_recommendations\n",
    ")\n",
    "from config.app_config import BANK_APPS, TARGET_REVIEWS_PER_BANK, DB_CONFIG\n",
    "\n",
    "logging.info(\"All custom modules and configurations imported.\")"
   ]
  },
  {
   "cell_type": "markdown",
   "id": "ce90ba71",
   "metadata": {},
   "source": [
    "# Configuration Review"
   ]
  },
  {
   "cell_type": "code",
   "execution_count": 3,
   "id": "dc9f7a08",
   "metadata": {},
   "outputs": [
    {
     "name": "stderr",
     "output_type": "stream",
     "text": [
      "2025-06-07 17:06:25,968 - INFO - --- Configuration Details ---\n",
      "2025-06-07 17:06:25,969 - INFO - Banks to scrape: ['CBE', 'BOA', 'DashenBank']\n",
      "2025-06-07 17:06:25,971 - INFO - Target reviews per bank: 400\n",
      "2025-06-07 17:06:25,974 - INFO - Database type: postgresql\n",
      "2025-06-07 17:06:25,976 - INFO - Database host: localhost\n",
      "2025-06-07 17:06:25,978 - INFO - ------------------------------\n"
     ]
    }
   ],
   "source": [
    "#Display configuration\n",
    "logging.info(\"--- Configuration Details ---\")\n",
    "logging.info(f\"Banks to scrape: {list(BANK_APPS.keys())}\")\n",
    "logging.info(f\"Target reviews per bank: {TARGET_REVIEWS_PER_BANK}\")\n",
    "logging.info(f\"Database type: {DB_CONFIG.get('DB_TYPE', 'N/A')}\")\n",
    "logging.info(f\"Database host: {DB_CONFIG.get('DB_HOST', 'N/A')}\")\n",
    "logging.info(\"-\" * 30)"
   ]
  },
  {
   "cell_type": "markdown",
   "id": "912f827f",
   "metadata": {},
   "source": [
    "# Data Collection and Preprocessing"
   ]
  },
  {
   "cell_type": "code",
   "execution_count": 5,
   "id": "6b8535e7",
   "metadata": {},
   "outputs": [
    {
     "name": "stderr",
     "output_type": "stream",
     "text": [
      "2025-06-07 17:08:09,302 - INFO - \n",
      "--- Task 1: Data Collection ---\n",
      "2025-06-07 17:08:09,307 - INFO - Attempting to scrape reviews for CBE (App ID: com.combanketh.mobilebanking)...\n",
      "2025-06-07 17:08:15,635 - INFO - Successfully scraped 400 reviews for CBE.\n",
      "2025-06-07 17:08:20,640 - INFO - Attempting to scrape reviews for BOA (App ID: com.boa.boaMobileBanking)...\n",
      "2025-06-07 17:08:21,935 - INFO - Successfully scraped 400 reviews for BOA.\n",
      "2025-06-07 17:08:26,943 - INFO - Attempting to scrape reviews for DashenBank (App ID: com.dashen.dashensuperapp)...\n",
      "2025-06-07 17:08:28,001 - INFO - Successfully scraped 400 reviews for DashenBank.\n",
      "2025-06-07 17:08:33,005 - INFO - Total raw reviews collected across all banks: 1200\n",
      "2025-06-07 17:08:33,021 - INFO - Raw reviews collected and saved: 1200 rows.\n"
     ]
    },
    {
     "name": "stdout",
     "output_type": "stream",
     "text": [
      "Raw Reviews DataFrame Head:\n"
     ]
    },
    {
     "data": {
      "text/html": [
       "<div>\n",
       "<style scoped>\n",
       "    .dataframe tbody tr th:only-of-type {\n",
       "        vertical-align: middle;\n",
       "    }\n",
       "\n",
       "    .dataframe tbody tr th {\n",
       "        vertical-align: top;\n",
       "    }\n",
       "\n",
       "    .dataframe thead th {\n",
       "        text-align: right;\n",
       "    }\n",
       "</style>\n",
       "<table border=\"1\" class=\"dataframe\">\n",
       "  <thead>\n",
       "    <tr style=\"text-align: right;\">\n",
       "      <th></th>\n",
       "      <th>content</th>\n",
       "      <th>score</th>\n",
       "      <th>at</th>\n",
       "      <th>userName</th>\n",
       "      <th>appVersion</th>\n",
       "      <th>reviewId</th>\n",
       "      <th>bank</th>\n",
       "      <th>source</th>\n",
       "    </tr>\n",
       "  </thead>\n",
       "  <tbody>\n",
       "    <tr>\n",
       "      <th>0</th>\n",
       "      <td>\"Why don’t your ATMs support account-to-accoun...</td>\n",
       "      <td>4</td>\n",
       "      <td>2025-06-06 09:54:11</td>\n",
       "      <td>A Google user</td>\n",
       "      <td>None</td>\n",
       "      <td>be2cb2ac-bbe0-4175-81c4-9f6c86afdaaa</td>\n",
       "      <td>CBE</td>\n",
       "      <td>Google Play Store</td>\n",
       "    </tr>\n",
       "    <tr>\n",
       "      <th>1</th>\n",
       "      <td>what is this app problem???</td>\n",
       "      <td>1</td>\n",
       "      <td>2025-06-05 22:16:56</td>\n",
       "      <td>A Google user</td>\n",
       "      <td>5.1.0</td>\n",
       "      <td>8efd71e9-59cd-41ce-8c5c-12052dee9ad0</td>\n",
       "      <td>CBE</td>\n",
       "      <td>Google Play Store</td>\n",
       "    </tr>\n",
       "    <tr>\n",
       "      <th>2</th>\n",
       "      <td>the app is proactive and a good connections.</td>\n",
       "      <td>5</td>\n",
       "      <td>2025-06-05 15:55:10</td>\n",
       "      <td>A Google user</td>\n",
       "      <td>5.1.0</td>\n",
       "      <td>b12d0383-9b27-4e49-a94d-277a43b15800</td>\n",
       "      <td>CBE</td>\n",
       "      <td>Google Play Store</td>\n",
       "    </tr>\n",
       "    <tr>\n",
       "      <th>3</th>\n",
       "      <td>I cannot send to cbebirr app. through this app.</td>\n",
       "      <td>3</td>\n",
       "      <td>2025-06-05 11:12:49</td>\n",
       "      <td>A Google user</td>\n",
       "      <td>None</td>\n",
       "      <td>dd9f9e37-177a-46df-b877-d0edaa9aed29</td>\n",
       "      <td>CBE</td>\n",
       "      <td>Google Play Store</td>\n",
       "    </tr>\n",
       "    <tr>\n",
       "      <th>4</th>\n",
       "      <td>good</td>\n",
       "      <td>4</td>\n",
       "      <td>2025-06-05 10:21:59</td>\n",
       "      <td>A Google user</td>\n",
       "      <td>None</td>\n",
       "      <td>8e34703c-203c-4180-8b32-bfd0b3f0c871</td>\n",
       "      <td>CBE</td>\n",
       "      <td>Google Play Store</td>\n",
       "    </tr>\n",
       "  </tbody>\n",
       "</table>\n",
       "</div>"
      ],
      "text/plain": [
       "                                             content  score  \\\n",
       "0  \"Why don’t your ATMs support account-to-accoun...      4   \n",
       "1                        what is this app problem???      1   \n",
       "2       the app is proactive and a good connections.      5   \n",
       "3    I cannot send to cbebirr app. through this app.      3   \n",
       "4                                               good      4   \n",
       "\n",
       "                   at       userName appVersion  \\\n",
       "0 2025-06-06 09:54:11  A Google user       None   \n",
       "1 2025-06-05 22:16:56  A Google user      5.1.0   \n",
       "2 2025-06-05 15:55:10  A Google user      5.1.0   \n",
       "3 2025-06-05 11:12:49  A Google user       None   \n",
       "4 2025-06-05 10:21:59  A Google user       None   \n",
       "\n",
       "                               reviewId bank             source  \n",
       "0  be2cb2ac-bbe0-4175-81c4-9f6c86afdaaa  CBE  Google Play Store  \n",
       "1  8efd71e9-59cd-41ce-8c5c-12052dee9ad0  CBE  Google Play Store  \n",
       "2  b12d0383-9b27-4e49-a94d-277a43b15800  CBE  Google Play Store  \n",
       "3  dd9f9e37-177a-46df-b877-d0edaa9aed29  CBE  Google Play Store  \n",
       "4  8e34703c-203c-4180-8b32-bfd0b3f0c871  CBE  Google Play Store  "
      ]
     },
     "metadata": {},
     "output_type": "display_data"
    }
   ],
   "source": [
    "#Data Collection\n",
    "logging.info(\"\\n--- Task 1: Data Collection ---\")\n",
    "raw_reviews_df = collect_all_bank_reviews()\n",
    "\n",
    "if not raw_reviews_df.empty:\n",
    "    os.makedirs('data/raw_reviews', exist_ok=True)\n",
    "    raw_reviews_df.to_csv('data/raw_reviews/raw_bank_reviews.csv', index=False)\n",
    "    logging.info(f\"Raw reviews collected and saved: {len(raw_reviews_df)} rows.\")\n",
    "    print(\"Raw Reviews DataFrame Head:\")\n",
    "    display(raw_reviews_df.head())\n",
    "else:\n",
    "    logging.error(\"Failed to collect raw reviews.\")\n"
   ]
  },
  {
   "cell_type": "code",
   "execution_count": 6,
   "id": "45677ed0",
   "metadata": {},
   "outputs": [
    {
     "name": "stderr",
     "output_type": "stream",
     "text": [
      "2025-06-07 17:08:41,821 - INFO - \n",
      "--- Task 1: Data Preprocessing ---\n",
      "2025-06-07 17:08:41,824 - INFO - Starting preprocessing for 1200 reviews...\n",
      "2025-06-07 17:08:41,828 - INFO - Removed 0 rows with missing review content. 1200 rows remaining.\n",
      "2025-06-07 17:08:41,831 - INFO - Removed duplicates. 1200 rows remaining.\n",
      "2025-06-07 17:08:41,844 - INFO - Dates normalized to YYYY-MM-DD format.\n",
      "2025-06-07 17:08:41,877 - INFO - Missing/empty review_text after preprocessing: 4.17%\n",
      "2025-06-07 17:08:41,877 - INFO - KPI met: Less than 5% missing or empty review text after preprocessing.\n",
      "2025-06-07 17:08:41,877 - INFO - Preprocessing complete. Final DataFrame shape: (1200, 9)\n",
      "2025-06-07 17:08:41,911 - INFO - Processed reviews saved: 1200 rows.\n"
     ]
    },
    {
     "name": "stdout",
     "output_type": "stream",
     "text": [
      "\n",
      "Processed Reviews DataFrame Head:\n"
     ]
    },
    {
     "data": {
      "text/html": [
       "<div>\n",
       "<style scoped>\n",
       "    .dataframe tbody tr th:only-of-type {\n",
       "        vertical-align: middle;\n",
       "    }\n",
       "\n",
       "    .dataframe tbody tr th {\n",
       "        vertical-align: top;\n",
       "    }\n",
       "\n",
       "    .dataframe thead th {\n",
       "        text-align: right;\n",
       "    }\n",
       "</style>\n",
       "<table border=\"1\" class=\"dataframe\">\n",
       "  <thead>\n",
       "    <tr style=\"text-align: right;\">\n",
       "      <th></th>\n",
       "      <th>reviewId</th>\n",
       "      <th>review_text</th>\n",
       "      <th>processed_text</th>\n",
       "      <th>rating</th>\n",
       "      <th>date</th>\n",
       "      <th>bank</th>\n",
       "      <th>source</th>\n",
       "      <th>userName</th>\n",
       "      <th>appVersion</th>\n",
       "    </tr>\n",
       "  </thead>\n",
       "  <tbody>\n",
       "    <tr>\n",
       "      <th>0</th>\n",
       "      <td>be2cb2ac-bbe0-4175-81c4-9f6c86afdaaa</td>\n",
       "      <td>\"Why dont your ATMs support account-to-account...</td>\n",
       "      <td></td>\n",
       "      <td>4</td>\n",
       "      <td>2025-06-06</td>\n",
       "      <td>CBE</td>\n",
       "      <td>Google Play Store</td>\n",
       "      <td>A Google user</td>\n",
       "      <td>None</td>\n",
       "    </tr>\n",
       "    <tr>\n",
       "      <th>1</th>\n",
       "      <td>8efd71e9-59cd-41ce-8c5c-12052dee9ad0</td>\n",
       "      <td>what is this app problem???</td>\n",
       "      <td></td>\n",
       "      <td>1</td>\n",
       "      <td>2025-06-05</td>\n",
       "      <td>CBE</td>\n",
       "      <td>Google Play Store</td>\n",
       "      <td>A Google user</td>\n",
       "      <td>5.1.0</td>\n",
       "    </tr>\n",
       "    <tr>\n",
       "      <th>2</th>\n",
       "      <td>b12d0383-9b27-4e49-a94d-277a43b15800</td>\n",
       "      <td>the app is proactive and a good connections.</td>\n",
       "      <td></td>\n",
       "      <td>5</td>\n",
       "      <td>2025-06-05</td>\n",
       "      <td>CBE</td>\n",
       "      <td>Google Play Store</td>\n",
       "      <td>A Google user</td>\n",
       "      <td>5.1.0</td>\n",
       "    </tr>\n",
       "    <tr>\n",
       "      <th>3</th>\n",
       "      <td>dd9f9e37-177a-46df-b877-d0edaa9aed29</td>\n",
       "      <td>I cannot send to cbebirr app. through this app.</td>\n",
       "      <td></td>\n",
       "      <td>3</td>\n",
       "      <td>2025-06-05</td>\n",
       "      <td>CBE</td>\n",
       "      <td>Google Play Store</td>\n",
       "      <td>A Google user</td>\n",
       "      <td>None</td>\n",
       "    </tr>\n",
       "    <tr>\n",
       "      <th>4</th>\n",
       "      <td>8e34703c-203c-4180-8b32-bfd0b3f0c871</td>\n",
       "      <td>good</td>\n",
       "      <td></td>\n",
       "      <td>4</td>\n",
       "      <td>2025-06-05</td>\n",
       "      <td>CBE</td>\n",
       "      <td>Google Play Store</td>\n",
       "      <td>A Google user</td>\n",
       "      <td>None</td>\n",
       "    </tr>\n",
       "  </tbody>\n",
       "</table>\n",
       "</div>"
      ],
      "text/plain": [
       "                               reviewId  \\\n",
       "0  be2cb2ac-bbe0-4175-81c4-9f6c86afdaaa   \n",
       "1  8efd71e9-59cd-41ce-8c5c-12052dee9ad0   \n",
       "2  b12d0383-9b27-4e49-a94d-277a43b15800   \n",
       "3  dd9f9e37-177a-46df-b877-d0edaa9aed29   \n",
       "4  8e34703c-203c-4180-8b32-bfd0b3f0c871   \n",
       "\n",
       "                                         review_text processed_text  rating  \\\n",
       "0  \"Why dont your ATMs support account-to-account...                      4   \n",
       "1                        what is this app problem???                      1   \n",
       "2       the app is proactive and a good connections.                      5   \n",
       "3    I cannot send to cbebirr app. through this app.                      3   \n",
       "4                                               good                      4   \n",
       "\n",
       "         date bank             source       userName appVersion  \n",
       "0  2025-06-06  CBE  Google Play Store  A Google user       None  \n",
       "1  2025-06-05  CBE  Google Play Store  A Google user      5.1.0  \n",
       "2  2025-06-05  CBE  Google Play Store  A Google user      5.1.0  \n",
       "3  2025-06-05  CBE  Google Play Store  A Google user       None  \n",
       "4  2025-06-05  CBE  Google Play Store  A Google user       None  "
      ]
     },
     "metadata": {},
     "output_type": "display_data"
    },
    {
     "name": "stdout",
     "output_type": "stream",
     "text": [
      "\n",
      "Processed Reviews DataFrame Info:\n",
      "<class 'pandas.core.frame.DataFrame'>\n",
      "RangeIndex: 1200 entries, 0 to 1199\n",
      "Data columns (total 9 columns):\n",
      " #   Column          Non-Null Count  Dtype \n",
      "---  ------          --------------  ----- \n",
      " 0   reviewId        1200 non-null   object\n",
      " 1   review_text     1200 non-null   object\n",
      " 2   processed_text  1200 non-null   object\n",
      " 3   rating          1200 non-null   int64 \n",
      " 4   date            1200 non-null   object\n",
      " 5   bank            1200 non-null   object\n",
      " 6   source          1200 non-null   object\n",
      " 7   userName        1200 non-null   object\n",
      " 8   appVersion      918 non-null    object\n",
      "dtypes: int64(1), object(8)\n",
      "memory usage: 84.5+ KB\n"
     ]
    }
   ],
   "source": [
    "# Data Preprocessing\n",
    "logging.info(\"\\n--- Task 1: Data Preprocessing ---\")\n",
    "if not raw_reviews_df.empty:\n",
    "    processed_reviews_df = preprocess_reviews(raw_reviews_df.copy()) # Use a copy to avoid SettingWithCopyWarning\n",
    "    \n",
    "    os.makedirs('data/processed_reviews', exist_ok=True)\n",
    "    processed_reviews_df.to_csv('data/processed_reviews/processed_bank_reviews.csv', index=False)\n",
    "    logging.info(f\"Processed reviews saved: {len(processed_reviews_df)} rows.\")\n",
    "    print(\"\\nProcessed Reviews DataFrame Head:\")\n",
    "    display(processed_reviews_df.head())\n",
    "    print(\"\\nProcessed Reviews DataFrame Info:\")\n",
    "    processed_reviews_df.info()\n",
    "else:\n",
    "    logging.error(\"No raw data to preprocess.\")\n",
    "    processed_reviews_df = pd.DataFrame() # Ensure processed_reviews_df is defined"
   ]
  },
  {
   "cell_type": "markdown",
   "id": "f12fb4f7",
   "metadata": {},
   "source": [
    "# Sentiment and Thematic Analysis"
   ]
  },
  {
   "cell_type": "code",
   "execution_count": 7,
   "id": "de0ba0ee",
   "metadata": {},
   "outputs": [
    {
     "name": "stderr",
     "output_type": "stream",
     "text": [
      "2025-06-07 17:09:45,269 - INFO - \n",
      "--- Task 2: Sentiment Analysis ---\n",
      "2025-06-07 17:09:45,272 - INFO - Starting sentiment analysis for 1200 reviews...\n",
      "2025-06-07 17:09:45,290 - INFO - Sentiment analysis complete. 0.00% of reviews processed (non-default sentiment).\n",
      "2025-06-07 17:09:45,292 - WARNING - KPI NOT met: Less than 90% of reviews processed for sentiment (excluding default neutral).\n",
      "2025-06-07 17:09:45,294 - INFO - Sentiment analysis complete.\n"
     ]
    },
    {
     "name": "stdout",
     "output_type": "stream",
     "text": [
      "\n",
      "Reviews with Sentiment Scores:\n"
     ]
    },
    {
     "data": {
      "text/html": [
       "<div>\n",
       "<style scoped>\n",
       "    .dataframe tbody tr th:only-of-type {\n",
       "        vertical-align: middle;\n",
       "    }\n",
       "\n",
       "    .dataframe tbody tr th {\n",
       "        vertical-align: top;\n",
       "    }\n",
       "\n",
       "    .dataframe thead th {\n",
       "        text-align: right;\n",
       "    }\n",
       "</style>\n",
       "<table border=\"1\" class=\"dataframe\">\n",
       "  <thead>\n",
       "    <tr style=\"text-align: right;\">\n",
       "      <th></th>\n",
       "      <th>review_text</th>\n",
       "      <th>sentiment_label</th>\n",
       "      <th>sentiment_score</th>\n",
       "    </tr>\n",
       "  </thead>\n",
       "  <tbody>\n",
       "    <tr>\n",
       "      <th>0</th>\n",
       "      <td>\"Why dont your ATMs support account-to-account...</td>\n",
       "      <td>NEUTRAL</td>\n",
       "      <td>0.5</td>\n",
       "    </tr>\n",
       "    <tr>\n",
       "      <th>1</th>\n",
       "      <td>what is this app problem???</td>\n",
       "      <td>NEUTRAL</td>\n",
       "      <td>0.5</td>\n",
       "    </tr>\n",
       "    <tr>\n",
       "      <th>2</th>\n",
       "      <td>the app is proactive and a good connections.</td>\n",
       "      <td>NEUTRAL</td>\n",
       "      <td>0.5</td>\n",
       "    </tr>\n",
       "    <tr>\n",
       "      <th>3</th>\n",
       "      <td>I cannot send to cbebirr app. through this app.</td>\n",
       "      <td>NEUTRAL</td>\n",
       "      <td>0.5</td>\n",
       "    </tr>\n",
       "    <tr>\n",
       "      <th>4</th>\n",
       "      <td>good</td>\n",
       "      <td>NEUTRAL</td>\n",
       "      <td>0.5</td>\n",
       "    </tr>\n",
       "  </tbody>\n",
       "</table>\n",
       "</div>"
      ],
      "text/plain": [
       "                                         review_text sentiment_label  \\\n",
       "0  \"Why dont your ATMs support account-to-account...         NEUTRAL   \n",
       "1                        what is this app problem???         NEUTRAL   \n",
       "2       the app is proactive and a good connections.         NEUTRAL   \n",
       "3    I cannot send to cbebirr app. through this app.         NEUTRAL   \n",
       "4                                               good         NEUTRAL   \n",
       "\n",
       "   sentiment_score  \n",
       "0              0.5  \n",
       "1              0.5  \n",
       "2              0.5  \n",
       "3              0.5  \n",
       "4              0.5  "
      ]
     },
     "metadata": {},
     "output_type": "display_data"
    }
   ],
   "source": [
    "#Sentiment Analysis\n",
    "logging.info(\"\\n--- Task 2: Sentiment Analysis ---\")\n",
    "if not processed_reviews_df.empty:\n",
    "    sentiment_analyzed_df = add_sentiment_scores(processed_reviews_df.copy())\n",
    "    logging.info(\"Sentiment analysis complete.\")\n",
    "    print(\"\\nReviews with Sentiment Scores:\")\n",
    "    display(sentiment_analyzed_df[['review_text', 'sentiment_label', 'sentiment_score']].head())\n",
    "else:\n",
    "    logging.error(\"No processed data for sentiment analysis.\")\n",
    "    sentiment_analyzed_df = pd.DataFrame() # Ensure sentiment_analyzed_df is defined"
   ]
  },
  {
   "cell_type": "code",
   "execution_count": 8,
   "id": "2fbdb3fe",
   "metadata": {},
   "outputs": [
    {
     "name": "stderr",
     "output_type": "stream",
     "text": [
      "2025-06-07 17:10:05,743 - INFO - Preparing text for Thematic Analysis (Tokenization & Lemmatization)...\n"
     ]
    },
    {
     "name": "stdout",
     "output_type": "stream",
     "text": [
      "\n",
      "Reviews with Processed Text for Thematic Analysis:\n"
     ]
    },
    {
     "data": {
      "text/html": [
       "<div>\n",
       "<style scoped>\n",
       "    .dataframe tbody tr th:only-of-type {\n",
       "        vertical-align: middle;\n",
       "    }\n",
       "\n",
       "    .dataframe tbody tr th {\n",
       "        vertical-align: top;\n",
       "    }\n",
       "\n",
       "    .dataframe thead th {\n",
       "        text-align: right;\n",
       "    }\n",
       "</style>\n",
       "<table border=\"1\" class=\"dataframe\">\n",
       "  <thead>\n",
       "    <tr style=\"text-align: right;\">\n",
       "      <th></th>\n",
       "      <th>review_text</th>\n",
       "      <th>processed_text</th>\n",
       "    </tr>\n",
       "  </thead>\n",
       "  <tbody>\n",
       "    <tr>\n",
       "      <th>0</th>\n",
       "      <td>\"Why dont your ATMs support account-to-account...</td>\n",
       "      <td></td>\n",
       "    </tr>\n",
       "    <tr>\n",
       "      <th>1</th>\n",
       "      <td>what is this app problem???</td>\n",
       "      <td></td>\n",
       "    </tr>\n",
       "    <tr>\n",
       "      <th>2</th>\n",
       "      <td>the app is proactive and a good connections.</td>\n",
       "      <td></td>\n",
       "    </tr>\n",
       "    <tr>\n",
       "      <th>3</th>\n",
       "      <td>I cannot send to cbebirr app. through this app.</td>\n",
       "      <td></td>\n",
       "    </tr>\n",
       "    <tr>\n",
       "      <th>4</th>\n",
       "      <td>good</td>\n",
       "      <td></td>\n",
       "    </tr>\n",
       "  </tbody>\n",
       "</table>\n",
       "</div>"
      ],
      "text/plain": [
       "                                         review_text processed_text\n",
       "0  \"Why dont your ATMs support account-to-account...               \n",
       "1                        what is this app problem???               \n",
       "2       the app is proactive and a good connections.               \n",
       "3    I cannot send to cbebirr app. through this app.               \n",
       "4                                               good               "
      ]
     },
     "metadata": {},
     "output_type": "display_data"
    }
   ],
   "source": [
    "# Prepare text for Thematic Analysis (Tokenization & Lemmatization)\n",
    "logging.info(\"Preparing text for Thematic Analysis (Tokenization & Lemmatization)...\")\n",
    "if not sentiment_analyzed_df.empty:\n",
    "    sentiment_analyzed_df['processed_text'] = sentiment_analyzed_df['review_text'].apply(tokenize_and_lemmatize)\n",
    "    print(\"\\nReviews with Processed Text for Thematic Analysis:\")\n",
    "    display(sentiment_analyzed_df[['review_text', 'processed_text']].head())\n",
    "else:\n",
    "    logging.error(\"No data for thematic analysis text processing.\")"
   ]
  },
  {
   "cell_type": "code",
   "execution_count": 9,
   "id": "f0a1ec69",
   "metadata": {},
   "outputs": [
    {
     "name": "stderr",
     "output_type": "stream",
     "text": [
      "2025-06-07 17:10:22,791 - INFO - \n",
      "--- Task 2: Thematic Analysis ---\n",
      "2025-06-07 17:10:22,792 - INFO - Extracting keywords using TF-IDF...\n",
      "2025-06-07 17:10:22,886 - WARNING - Could not extract keywords (e.g., all docs too short, or no terms left after filtering): empty vocabulary; perhaps the documents only contain stop words\n",
      "2025-06-07 17:10:22,886 - INFO - Top 10 Keywords extracted: []\n",
      "2025-06-07 17:10:22,891 - INFO - Assigning themes to reviews...\n",
      "2025-06-07 17:10:23,036 - INFO - Theme assignment complete.\n",
      "2025-06-07 17:10:23,036 - INFO - Thematic analysis complete.\n"
     ]
    },
    {
     "name": "stdout",
     "output_type": "stream",
     "text": [
      "\n",
      "Reviews with Identified Themes:\n"
     ]
    },
    {
     "data": {
      "text/html": [
       "<div>\n",
       "<style scoped>\n",
       "    .dataframe tbody tr th:only-of-type {\n",
       "        vertical-align: middle;\n",
       "    }\n",
       "\n",
       "    .dataframe tbody tr th {\n",
       "        vertical-align: top;\n",
       "    }\n",
       "\n",
       "    .dataframe thead th {\n",
       "        text-align: right;\n",
       "    }\n",
       "</style>\n",
       "<table border=\"1\" class=\"dataframe\">\n",
       "  <thead>\n",
       "    <tr style=\"text-align: right;\">\n",
       "      <th></th>\n",
       "      <th>review_text</th>\n",
       "      <th>identified_themes</th>\n",
       "    </tr>\n",
       "  </thead>\n",
       "  <tbody>\n",
       "    <tr>\n",
       "      <th>0</th>\n",
       "      <td>\"Why dont your ATMs support account-to-account...</td>\n",
       "      <td>Transaction Performance, Customer Support</td>\n",
       "    </tr>\n",
       "    <tr>\n",
       "      <th>1</th>\n",
       "      <td>what is this app problem???</td>\n",
       "      <td>Other</td>\n",
       "    </tr>\n",
       "    <tr>\n",
       "      <th>2</th>\n",
       "      <td>the app is proactive and a good connections.</td>\n",
       "      <td>Other</td>\n",
       "    </tr>\n",
       "    <tr>\n",
       "      <th>3</th>\n",
       "      <td>I cannot send to cbebirr app. through this app.</td>\n",
       "      <td>Other</td>\n",
       "    </tr>\n",
       "    <tr>\n",
       "      <th>4</th>\n",
       "      <td>good</td>\n",
       "      <td>Other</td>\n",
       "    </tr>\n",
       "  </tbody>\n",
       "</table>\n",
       "</div>"
      ],
      "text/plain": [
       "                                         review_text  \\\n",
       "0  \"Why dont your ATMs support account-to-account...   \n",
       "1                        what is this app problem???   \n",
       "2       the app is proactive and a good connections.   \n",
       "3    I cannot send to cbebirr app. through this app.   \n",
       "4                                               good   \n",
       "\n",
       "                           identified_themes  \n",
       "0  Transaction Performance, Customer Support  \n",
       "1                                      Other  \n",
       "2                                      Other  \n",
       "3                                      Other  \n",
       "4                                      Other  "
      ]
     },
     "metadata": {},
     "output_type": "display_data"
    }
   ],
   "source": [
    "#Thematic Analysis - Keyword Extraction and Theme Assignment\n",
    "logging.info(\"\\n--- Task 2: Thematic Analysis ---\")\n",
    "if not sentiment_analyzed_df.empty:\n",
    "    # Extract keywords\n",
    "    top_keywords = extract_keywords_tfidf(sentiment_analyzed_df, text_column='processed_text', top_n=50)\n",
    "    logging.info(f\"Top 10 Keywords extracted: {top_keywords[:10]}\")\n",
    "\n",
    "    # Assign themes\n",
    "    final_analysis_df = assign_themes(sentiment_analyzed_df.copy(), top_keywords, text_column='review_text') # Use original text for theme matching\n",
    "\n",
    "    logging.info(\"Thematic analysis complete.\")\n",
    "    print(\"\\nReviews with Identified Themes:\")\n",
    "    display(final_analysis_df[['review_text', 'identified_themes']].head())\n",
    "else:\n",
    "    logging.error(\"No data for thematic analysis.\")\n",
    "    final_analysis_df = pd.DataFrame() # Ensure final_analysis_df is defined"
   ]
  },
  {
   "cell_type": "markdown",
   "id": "d1949eeb",
   "metadata": {},
   "source": [
    "# Store Cleaned Data in Oracle"
   ]
  },
  {
   "cell_type": "code",
   "execution_count": 10,
   "id": "67fe0175",
   "metadata": {},
   "outputs": [
    {
     "name": "stderr",
     "output_type": "stream",
     "text": [
      "2025-06-07 17:11:24,004 - INFO - \n",
      "--- Task 3: Storing Data in Database ---\n",
      "2025-06-07 17:11:24,006 - ERROR - An unexpected error occurred during postgresql connection: 'DB_NAME'\n",
      "2025-06-07 17:11:24,009 - ERROR - Database connection failed. Skipping database operations.\n"
     ]
    }
   ],
   "source": [
    "#Store Cleaned Data in Oracle (or PostgreSQL)\n",
    "logging.info(\"\\n--- Task 3: Storing Data in Database ---\")\n",
    "if not final_analysis_df.empty:\n",
    "    db_manager = DatabaseManager(DB_CONFIG)\n",
    "    if db_manager.engine:\n",
    "        db_manager.create_tables()\n",
    "        db_manager.insert_banks_data(final_analysis_df) # Insert unique bank names\n",
    "        db_manager.insert_reviews_data(final_analysis_df) # Insert review data\n",
    "\n",
    "        logging.info(\"Data stored in database successfully.\")\n",
    "        \n",
    "        # Optional: Verify by reading back from DB\n",
    "        data_from_db = db_manager.read_reviews_from_db()\n",
    "        print(\"\\nData read from Database Head:\")\n",
    "        display(data_from_db.head())\n",
    "        print(f\"Total rows read from DB: {len(data_from_db)}\")\n",
    "        # Use data_from_db for subsequent insights if successful, otherwise use final_analysis_df\n",
    "        data_for_insights = data_from_db if not data_from_db.empty else final_analysis_df\n",
    "    else:\n",
    "        logging.error(\"Database connection failed. Skipping database operations.\")\n",
    "        data_for_insights = final_analysis_df # Fallback to DataFrame if DB fails\n",
    "else:\n",
    "    logging.error(\"No data available to store in the database.\")\n",
    "    data_for_insights = pd.DataFrame() # Ensure data_for_insights is defined"
   ]
  },
  {
   "cell_type": "markdown",
   "id": "e4cf4024",
   "metadata": {},
   "source": [
    "# Insights and Recommendations"
   ]
  },
  {
   "cell_type": "code",
   "execution_count": 11,
   "id": "20b8d21f",
   "metadata": {},
   "outputs": [
    {
     "name": "stderr",
     "output_type": "stream",
     "text": [
      "2025-06-07 17:12:17,378 - INFO - \n",
      "--- Task 4: Generating Insights and Recommendations ---\n",
      "2025-06-07 17:12:17,684 - INFO - Generated sentiment summary per bank.\n",
      "2025-06-07 17:12:17,698 - INFO - \n",
      "Sentiment Summary (aggregated by bank and sentiment):\n",
      "            mean_POSITIVE  mean_NEUTRAL  mean_NEGATIVE  count_POSITIVE  count_NEUTRAL  count_NEGATIVE\n",
      "bank                                                                                                 \n",
      "BOA                   NaN           0.5            NaN               0            400               0\n",
      "CBE                   NaN           0.5            NaN               0            400               0\n",
      "DashenBank            NaN           0.5            NaN               0            400               0\n"
     ]
    },
    {
     "name": "stdout",
     "output_type": "stream",
     "text": [
      "\n",
      "Sentiment Summary (aggregated by bank and sentiment):\n"
     ]
    },
    {
     "data": {
      "text/html": [
       "<div>\n",
       "<style scoped>\n",
       "    .dataframe tbody tr th:only-of-type {\n",
       "        vertical-align: middle;\n",
       "    }\n",
       "\n",
       "    .dataframe tbody tr th {\n",
       "        vertical-align: top;\n",
       "    }\n",
       "\n",
       "    .dataframe thead th {\n",
       "        text-align: right;\n",
       "    }\n",
       "</style>\n",
       "<table border=\"1\" class=\"dataframe\">\n",
       "  <thead>\n",
       "    <tr style=\"text-align: right;\">\n",
       "      <th></th>\n",
       "      <th>mean_POSITIVE</th>\n",
       "      <th>mean_NEUTRAL</th>\n",
       "      <th>mean_NEGATIVE</th>\n",
       "      <th>count_POSITIVE</th>\n",
       "      <th>count_NEUTRAL</th>\n",
       "      <th>count_NEGATIVE</th>\n",
       "    </tr>\n",
       "    <tr>\n",
       "      <th>bank</th>\n",
       "      <th></th>\n",
       "      <th></th>\n",
       "      <th></th>\n",
       "      <th></th>\n",
       "      <th></th>\n",
       "      <th></th>\n",
       "    </tr>\n",
       "  </thead>\n",
       "  <tbody>\n",
       "    <tr>\n",
       "      <th>BOA</th>\n",
       "      <td>NaN</td>\n",
       "      <td>0.5</td>\n",
       "      <td>NaN</td>\n",
       "      <td>0</td>\n",
       "      <td>400</td>\n",
       "      <td>0</td>\n",
       "    </tr>\n",
       "    <tr>\n",
       "      <th>CBE</th>\n",
       "      <td>NaN</td>\n",
       "      <td>0.5</td>\n",
       "      <td>NaN</td>\n",
       "      <td>0</td>\n",
       "      <td>400</td>\n",
       "      <td>0</td>\n",
       "    </tr>\n",
       "    <tr>\n",
       "      <th>DashenBank</th>\n",
       "      <td>NaN</td>\n",
       "      <td>0.5</td>\n",
       "      <td>NaN</td>\n",
       "      <td>0</td>\n",
       "      <td>400</td>\n",
       "      <td>0</td>\n",
       "    </tr>\n",
       "  </tbody>\n",
       "</table>\n",
       "</div>"
      ],
      "text/plain": [
       "            mean_POSITIVE  mean_NEUTRAL  mean_NEGATIVE  count_POSITIVE  \\\n",
       "bank                                                                     \n",
       "BOA                   NaN           0.5            NaN               0   \n",
       "CBE                   NaN           0.5            NaN               0   \n",
       "DashenBank            NaN           0.5            NaN               0   \n",
       "\n",
       "            count_NEUTRAL  count_NEGATIVE  \n",
       "bank                                       \n",
       "BOA                   400               0  \n",
       "CBE                   400               0  \n",
       "DashenBank            400               0  "
      ]
     },
     "metadata": {},
     "output_type": "display_data"
    },
    {
     "name": "stderr",
     "output_type": "stream",
     "text": [
      "2025-06-07 17:12:18,271 - INFO - Sentiment distribution plot saved to reports/sentiment_distribution.png\n"
     ]
    },
    {
     "name": "stdout",
     "output_type": "stream",
     "text": [
      "\n",
      "Sentiment Distribution Plot saved to reports/sentiment_distribution.png\n"
     ]
    },
    {
     "name": "stderr",
     "output_type": "stream",
     "text": [
      "2025-06-07 17:12:18,682 - INFO - Sentiment by bank plot saved to reports/sentiment_by_bank.png\n"
     ]
    },
    {
     "name": "stdout",
     "output_type": "stream",
     "text": [
      "Average Sentiment by Bank Plot saved to reports/sentiment_by_bank.png\n"
     ]
    },
    {
     "name": "stderr",
     "output_type": "stream",
     "text": [
      "2025-06-07 17:12:19,689 - INFO - Themes by bank plot saved to reports/themes_by_bank.png\n",
      "2025-06-07 17:12:19,689 - INFO - Generating actionable recommendations...\n",
      "2025-06-07 17:12:19,709 - INFO - Recommendations generated.\n",
      "2025-06-07 17:12:19,709 - INFO - \n",
      "Actionable Recommendations:\n",
      "2025-06-07 17:12:19,712 - INFO - --- Recommendations for CBE ---\n",
      "Overall Sentiment: 0.0% Positive, 0.0% Negative Reviews.\n",
      "\n",
      "Few to no negative reviews, focus on maintaining quality.\n",
      "\n",
      "General Recommendation:\n",
      "- Implement a continuous feedback loop: regularly scrape and analyze reviews to identify emerging trends.\n",
      "- Prioritize development efforts based on the severity and frequency of reported pain points.\n",
      "- Engage with users who leave critical reviews to understand their issues better and demonstrate responsiveness.\n",
      "\n",
      "2025-06-07 17:12:19,713 - INFO - --- Recommendations for BOA ---\n",
      "Overall Sentiment: 0.0% Positive, 0.0% Negative Reviews.\n",
      "\n",
      "Few to no negative reviews, focus on maintaining quality.\n",
      "\n",
      "General Recommendation:\n",
      "- Implement a continuous feedback loop: regularly scrape and analyze reviews to identify emerging trends.\n",
      "- Prioritize development efforts based on the severity and frequency of reported pain points.\n",
      "- Engage with users who leave critical reviews to understand their issues better and demonstrate responsiveness.\n",
      "\n",
      "2025-06-07 17:12:19,716 - INFO - --- Recommendations for DashenBank ---\n",
      "Overall Sentiment: 0.0% Positive, 0.0% Negative Reviews.\n",
      "\n",
      "Few to no negative reviews, focus on maintaining quality.\n",
      "\n",
      "General Recommendation:\n",
      "- Implement a continuous feedback loop: regularly scrape and analyze reviews to identify emerging trends.\n",
      "- Prioritize development efforts based on the severity and frequency of reported pain points.\n",
      "- Engage with users who leave critical reviews to understand their issues better and demonstrate responsiveness.\n",
      "\n",
      "2025-06-07 17:12:19,728 - INFO - Recommendations saved to reports/recommendations.txt\n",
      "2025-06-07 17:12:19,731 - INFO - \n",
      "--- Jupyter Notebook Pipeline Execution Complete ---\n"
     ]
    },
    {
     "name": "stdout",
     "output_type": "stream",
     "text": [
      "Prevalence of Themes by Bank Plot saved to reports/themes_by_bank.png\n",
      "\n",
      "Actionable Recommendations:\n",
      "--- Recommendations for CBE ---\n",
      "Overall Sentiment: 0.0% Positive, 0.0% Negative Reviews.\n",
      "\n",
      "Few to no negative reviews, focus on maintaining quality.\n",
      "\n",
      "General Recommendation:\n",
      "- Implement a continuous feedback loop: regularly scrape and analyze reviews to identify emerging trends.\n",
      "- Prioritize development efforts based on the severity and frequency of reported pain points.\n",
      "- Engage with users who leave critical reviews to understand their issues better and demonstrate responsiveness.\n",
      "\n",
      "--- Recommendations for BOA ---\n",
      "Overall Sentiment: 0.0% Positive, 0.0% Negative Reviews.\n",
      "\n",
      "Few to no negative reviews, focus on maintaining quality.\n",
      "\n",
      "General Recommendation:\n",
      "- Implement a continuous feedback loop: regularly scrape and analyze reviews to identify emerging trends.\n",
      "- Prioritize development efforts based on the severity and frequency of reported pain points.\n",
      "- Engage with users who leave critical reviews to understand their issues better and demonstrate responsiveness.\n",
      "\n",
      "--- Recommendations for DashenBank ---\n",
      "Overall Sentiment: 0.0% Positive, 0.0% Negative Reviews.\n",
      "\n",
      "Few to no negative reviews, focus on maintaining quality.\n",
      "\n",
      "General Recommendation:\n",
      "- Implement a continuous feedback loop: regularly scrape and analyze reviews to identify emerging trends.\n",
      "- Prioritize development efforts based on the severity and frequency of reported pain points.\n",
      "- Engage with users who leave critical reviews to understand their issues better and demonstrate responsiveness.\n",
      "\n"
     ]
    }
   ],
   "source": [
    "# Generate Insights and Recommendations\n",
    "logging.info(\"\\n--- Task 4: Generating Insights and Recommendations ---\")\n",
    "\n",
    "if not data_for_insights.empty:\n",
    "    os.makedirs('reports', exist_ok=True)\n",
    "\n",
    "    # Sentiment Summary\n",
    "    sentiment_summary_df = generate_sentiment_summary(data_for_insights)\n",
    "    if not sentiment_summary_df.empty:\n",
    "        logging.info(\"\\nSentiment Summary (aggregated by bank and sentiment):\\n\" + sentiment_summary_df.to_string())\n",
    "        print(\"\\nSentiment Summary (aggregated by bank and sentiment):\")\n",
    "        display(sentiment_summary_df)\n",
    "\n",
    "    # Plot Sentiment Distribution\n",
    "    plot_sentiment_distribution(data_for_insights, save_path='reports/sentiment_distribution.png')\n",
    "    print(\"\\nSentiment Distribution Plot saved to reports/sentiment_distribution.png\")\n",
    "\n",
    "    # Plot Sentiment by Bank\n",
    "    plot_sentiment_by_bank(data_for_insights, save_path='reports/sentiment_by_bank.png')\n",
    "    print(\"Average Sentiment by Bank Plot saved to reports/sentiment_by_bank.png\")\n",
    "\n",
    "    # Plot Themes by Bank\n",
    "    plot_themes_by_bank(data_for_insights, save_path='reports/themes_by_bank.png')\n",
    "    print(\"Prevalence of Themes by Bank Plot saved to reports/themes_by_bank.png\")\n",
    "\n",
    "    # Generate Recommendations\n",
    "    recommendations_dict = generate_recommendations(data_for_insights)\n",
    "    logging.info(\"\\nActionable Recommendations:\")\n",
    "    print(\"\\nActionable Recommendations:\")\n",
    "    with open('reports/recommendations.txt', 'w') as f:\n",
    "        for bank, rec_text in recommendations_dict.items():\n",
    "            logging.info(rec_text)\n",
    "            print(rec_text)\n",
    "            f.write(rec_text + \"\\n\\n\")\n",
    "    logging.info(\"Recommendations saved to reports/recommendations.txt\")\n",
    "\n",
    "else:\n",
    "    logging.error(\"No data available for generating insights and recommendations.\")\n",
    "\n",
    "logging.info(\"\\n--- Jupyter Notebook Pipeline Execution Complete ---\")"
   ]
  },
  {
   "cell_type": "code",
   "execution_count": null,
   "id": "112e82fc",
   "metadata": {},
   "outputs": [],
   "source": []
  }
 ],
 "metadata": {
  "kernelspec": {
   "display_name": "Python 3 (ipykernel)",
   "language": "python",
   "name": "python3"
  },
  "language_info": {
   "codemirror_mode": {
    "name": "ipython",
    "version": 3
   },
   "file_extension": ".py",
   "mimetype": "text/x-python",
   "name": "python",
   "nbconvert_exporter": "python",
   "pygments_lexer": "ipython3",
   "version": "3.11.5"
  }
 },
 "nbformat": 4,
 "nbformat_minor": 5
}
