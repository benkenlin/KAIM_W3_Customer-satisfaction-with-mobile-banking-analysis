{
 "cells": [
  {
   "cell_type": "markdown",
   "id": "31a5a9f9",
   "metadata": {},
   "source": [
    "# Setup and Imports"
   ]
  },
  {
   "cell_type": "code",
   "execution_count": 1,
   "id": "e98090fc",
   "metadata": {},
   "outputs": [
    {
     "name": "stderr",
     "output_type": "stream",
     "text": [
      "2025-06-07 16:08:45,186 - INFO - Jupyter Notebook setup complete.\n"
     ]
    }
   ],
   "source": [
    "# Cell 1: Install necessary libraries (run only once if not installed)\n",
    "# !pip install google-play-scraper pandas scikit-learn transformers torch spacy matplotlib seaborn sqlalchemy cx_Oracle psycopg2-binary ipywidgets widgetsnbextension\n",
    "# !python -m spacy download en_core_web_sm\n",
    "# !jupyter nbextension enable --py widgetsnbextension # For interactive elements if you use them\n",
    "\n",
    "import pandas as pd\n",
    "import os\n",
    "import logging\n",
    "from datetime import datetime\n",
    "\n",
    "# Configure logging for the notebook\n",
    "# This ensures logs go to a file and to the console output in Jupyter\n",
    "log_file_path = 'pipeline_jupyter.log'\n",
    "if os.path.exists(log_file_path):\n",
    "    os.remove(log_file_path) # Clear previous log for a fresh run\n",
    "\n",
    "logging.basicConfig(level=logging.INFO, format='%(asctime)s - %(levelname)s - %(message)s',\n",
    "                    handlers=[logging.FileHandler(log_file_path), logging.StreamHandler()])\n",
    "\n",
    "logging.info(\"Jupyter Notebook setup complete.\")\n"
   ]
  },
  {
   "cell_type": "code",
   "execution_count": 4,
   "id": "29805ee7",
   "metadata": {},
   "outputs": [
    {
     "ename": "ModuleNotFoundError",
     "evalue": "No module named 'spacy'",
     "output_type": "error",
     "traceback": [
      "\u001b[1;31m---------------------------------------------------------------------------\u001b[0m",
      "\u001b[1;31mModuleNotFoundError\u001b[0m                       Traceback (most recent call last)",
      "Cell \u001b[1;32mIn[4], line 10\u001b[0m\n\u001b[0;32m      7\u001b[0m     sys\u001b[38;5;241m.\u001b[39mpath\u001b[38;5;241m.\u001b[39minsert(\u001b[38;5;241m0\u001b[39m, project_root)\n\u001b[0;32m      9\u001b[0m \u001b[38;5;28;01mfrom\u001b[39;00m \u001b[38;5;21;01msrc\u001b[39;00m\u001b[38;5;21;01m.\u001b[39;00m\u001b[38;5;21;01mdata_collection\u001b[39;00m \u001b[38;5;28;01mimport\u001b[39;00m collect_all_bank_reviews\n\u001b[1;32m---> 10\u001b[0m \u001b[38;5;28;01mfrom\u001b[39;00m \u001b[38;5;21;01msrc\u001b[39;00m\u001b[38;5;21;01m.\u001b[39;00m\u001b[38;5;21;01mpreprocessing\u001b[39;00m \u001b[38;5;28;01mimport\u001b[39;00m preprocess_reviews, tokenize_and_lemmatize \u001b[38;5;66;03m# Added tokenize_and_lemmatize here for consistency\u001b[39;00m\n\u001b[0;32m     11\u001b[0m \u001b[38;5;28;01mfrom\u001b[39;00m \u001b[38;5;21;01msrc\u001b[39;00m\u001b[38;5;21;01m.\u001b[39;00m\u001b[38;5;21;01msentiment_analysis\u001b[39;00m \u001b[38;5;28;01mimport\u001b[39;00m add_sentiment_scores\n\u001b[0;32m     12\u001b[0m \u001b[38;5;28;01mfrom\u001b[39;00m \u001b[38;5;21;01msrc\u001b[39;00m\u001b[38;5;21;01m.\u001b[39;00m\u001b[38;5;21;01mthematic_analysis\u001b[39;00m \u001b[38;5;28;01mimport\u001b[39;00m extract_keywords_tfidf, assign_themes\n",
      "File \u001b[1;32m~\\Desktop\\DataScience\\10Academy\\Kefiya_AI_Mastery\\Week2\\KAIM_W3_Customer-satisfaction-with-mobile-banking-analysis\\src\\preprocessing.py:5\u001b[0m\n\u001b[0;32m      3\u001b[0m \u001b[38;5;28;01mimport\u001b[39;00m \u001b[38;5;21;01mlogging\u001b[39;00m\n\u001b[0;32m      4\u001b[0m \u001b[38;5;28;01mfrom\u001b[39;00m \u001b[38;5;21;01mdatetime\u001b[39;00m \u001b[38;5;28;01mimport\u001b[39;00m datetime\n\u001b[1;32m----> 5\u001b[0m \u001b[38;5;28;01mimport\u001b[39;00m \u001b[38;5;21;01mspacy\u001b[39;00m \u001b[38;5;66;03m# Import spacy for tokenization/lemmatization\u001b[39;00m\n\u001b[0;32m      7\u001b[0m logging\u001b[38;5;241m.\u001b[39mbasicConfig(level\u001b[38;5;241m=\u001b[39mlogging\u001b[38;5;241m.\u001b[39mINFO, \u001b[38;5;28mformat\u001b[39m\u001b[38;5;241m=\u001b[39m\u001b[38;5;124m'\u001b[39m\u001b[38;5;132;01m%(asctime)s\u001b[39;00m\u001b[38;5;124m - \u001b[39m\u001b[38;5;132;01m%(levelname)s\u001b[39;00m\u001b[38;5;124m - \u001b[39m\u001b[38;5;132;01m%(message)s\u001b[39;00m\u001b[38;5;124m'\u001b[39m)\n\u001b[0;32m      9\u001b[0m \u001b[38;5;66;03m# Load SpaCy model for tokenization and lemmatization\u001b[39;00m\n\u001b[0;32m     10\u001b[0m \u001b[38;5;66;03m# Ensure you have it installed: python -m spacy download en_core_web_sm\u001b[39;00m\n",
      "\u001b[1;31mModuleNotFoundError\u001b[0m: No module named 'spacy'"
     ]
    }
   ],
   "source": [
    "# Import modules from your 'src' and 'config' directories\n",
    "# Add your project's root directory to the Python path\n",
    "# This allows importing modules from 'src' and 'config'\n",
    "import sys\n",
    "project_root = os.path.abspath(os.path.join(os.getcwd(), os.pardir))\n",
    "if project_root not in sys.path:\n",
    "    sys.path.insert(0, project_root)\n",
    "\n",
    "from src.data_collection import collect_all_bank_reviews\n",
    "from src.preprocessing import preprocess_reviews, tokenize_and_lemmatize # Added tokenize_and_lemmatize here for consistency\n",
    "from src.sentiment_analysis import add_sentiment_scores\n",
    "from src.thematic_analysis import extract_keywords_tfidf, assign_themes\n",
    "from src.database_manager import DatabaseManager\n",
    "from src.insights_generator import (\n",
    "    generate_sentiment_summary,\n",
    "    plot_sentiment_distribution,\n",
    "    plot_sentiment_by_bank,\n",
    "    plot_themes_by_bank,\n",
    "    generate_recommendations\n",
    ")\n",
    "from config.app_config import BANK_APPS, TARGET_REVIEWS_PER_BANK, DB_CONFIG\n",
    "\n",
    "logging.info(\"All custom modules and configurations imported.\")"
   ]
  },
  {
   "cell_type": "markdown",
   "id": "93869555",
   "metadata": {},
   "source": [
    "# Configuration Review"
   ]
  },
  {
   "cell_type": "code",
   "execution_count": 3,
   "id": "0bdfbee3",
   "metadata": {},
   "outputs": [
    {
     "name": "stdout",
     "output_type": "stream",
     "text": [
      "Collecting google_play_scraper\n",
      "  Obtaining dependency information for google_play_scraper from https://files.pythonhosted.org/packages/33/f7/a23ef3cf8efc9ab3aee565971f59906811e6ce95475314ef7b18d02f30ba/google_play_scraper-1.2.7-py3-none-any.whl.metadata\n",
      "  Downloading google_play_scraper-1.2.7-py3-none-any.whl.metadata (50 kB)\n",
      "     ---------------------------------------- 0.0/50.2 kB ? eta -:--:--\n",
      "     ------------------------------ ------- 41.0/50.2 kB 653.6 kB/s eta 0:00:01\n",
      "     ------------------------------ ------- 41.0/50.2 kB 653.6 kB/s eta 0:00:01\n",
      "     ------------------------------ ------- 41.0/50.2 kB 653.6 kB/s eta 0:00:01\n",
      "     ------------------------------ ------- 41.0/50.2 kB 653.6 kB/s eta 0:00:01\n",
      "     ------------------------------ ------- 41.0/50.2 kB 653.6 kB/s eta 0:00:01\n",
      "     ------------------------------ ------- 41.0/50.2 kB 653.6 kB/s eta 0:00:01\n",
      "     ------------------------------ ------- 41.0/50.2 kB 653.6 kB/s eta 0:00:01\n",
      "     ------------------------------ ------- 41.0/50.2 kB 653.6 kB/s eta 0:00:01\n",
      "     ------------------------------ ------- 41.0/50.2 kB 653.6 kB/s eta 0:00:01\n",
      "     ------------------------------ ------- 41.0/50.2 kB 653.6 kB/s eta 0:00:01\n",
      "     --------------------------------------- 50.2/50.2 kB 88.1 kB/s eta 0:00:00\n",
      "Using cached google_play_scraper-1.2.7-py3-none-any.whl (28 kB)\n",
      "Installing collected packages: google_play_scraper\n",
      "Successfully installed google_play_scraper-1.2.7\n",
      "Note: you may need to restart the kernel to use updated packages.\n"
     ]
    }
   ],
   "source": [
    "pip install google_play_scraper"
   ]
  },
  {
   "cell_type": "code",
   "execution_count": null,
   "id": "256d75f8",
   "metadata": {},
   "outputs": [],
   "source": []
  }
 ],
 "metadata": {
  "kernelspec": {
   "display_name": "Python 3 (ipykernel)",
   "language": "python",
   "name": "python3"
  },
  "language_info": {
   "codemirror_mode": {
    "name": "ipython",
    "version": 3
   },
   "file_extension": ".py",
   "mimetype": "text/x-python",
   "name": "python",
   "nbconvert_exporter": "python",
   "pygments_lexer": "ipython3",
   "version": "3.11.5"
  }
 },
 "nbformat": 4,
 "nbformat_minor": 5
}
